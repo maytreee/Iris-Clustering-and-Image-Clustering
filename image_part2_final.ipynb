{
  "cells": [
    {
      "cell_type": "code",
      "execution_count": null,
      "metadata": {
        "id": "XcIznGpiIgCV"
      },
      "outputs": [],
      "source": [
        "import pandas as pd\n",
        "import numpy as np\n",
        "import matplotlib.pyplot as plt\n",
        "from scipy.spatial.distance import cdist\n",
        "from sklearn.decomposition import PCA\n",
        "from sklearn.manifold import TSNE\n",
        "#IMPORT IMAGE CLUSTER DATA\n",
        "iris = pd.read_csv('part2testdata.txt', header=None)\n",
        "X = iris\n",
        "\n",
        "#iNITIALIZE KMEANS\n",
        "def k_means(X, K):\n",
        "    # Keep track of history so you can see K-means in action\n",
        "    previous_cent = []\n",
        "    previous_label = []\n",
        "    random_index = np.random.choice(X.shape[0], K)\n",
        "    print(random_index)\n",
        "    cent = X[random_index]\n",
        "    print(cent)\n",
        "    previous_cent.append(cent)\n",
        "    while True:\n",
        "\n",
        "        labels = np.argmin(cdist(X, cent), axis=1)\n",
        "        previous_label.append(labels)\n",
        "\n",
        "        cent_new = np.array([X[labels == i].mean(axis=0) for i in range(K)])\n",
        "        previous_cent.append(cent_new)\n",
        "\n",
        "        if np.all(cent == cent_new):\n",
        "            break\n",
        "        cent = cent_new\n",
        "\n",
        "    return cent, labels, previous_cent, previous_label\n",
        "\n",
        "#Initialize pca with TSNE\n",
        "pca = TSNE(2)\n",
        "\n",
        "# Transform the data\n",
        "df = principalcompanalysis.fit_transform(X)\n",
        "cent, labels, previous_cent, previous_label = k_means(df, 10)\n",
        "\n",
        "#To generate a output file from 1-10\n",
        "\n",
        "for i in range(len(labels)):\n",
        "    labels[i] += 1\n",
        "print(labels)\n",
        "\n",
        "#To generate result file for image clustering\n",
        "\n",
        "result = open('image-output-final.dat', 'w')\n",
        "result.writelines( \"%s\\n\" % i for i in labels )\n",
        "result.close()\n",
        "\n"
      ]
    }
  ],
  "metadata": {
    "colab": {
      "name": "image-part2-final.ipynb",
      "provenance": []
    },
    "kernelspec": {
      "display_name": "Python 3",
      "name": "python3"
    },
    "language_info": {
      "name": "python"
    }
  },
  "nbformat": 4,
  "nbformat_minor": 0
}
